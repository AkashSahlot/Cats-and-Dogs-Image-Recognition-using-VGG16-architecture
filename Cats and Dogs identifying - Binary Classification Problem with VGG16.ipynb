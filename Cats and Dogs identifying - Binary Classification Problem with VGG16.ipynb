{
 "cells": [
  {
   "cell_type": "code",
   "execution_count": 38,
   "id": "5da54cf5",
   "metadata": {},
   "outputs": [],
   "source": [
    "import numpy as np\n",
    "import pandas as pd\n",
    "%matplotlib inline\n",
    "import matplotlib as mpl\n",
    "import matplotlib.pyplot as plt\n",
    "import os"
   ]
  },
  {
   "cell_type": "code",
   "execution_count": 39,
   "id": "9356e61c",
   "metadata": {},
   "outputs": [],
   "source": [
    "import tensorflow as tf\n",
    "from tensorflow import keras"
   ]
  },
  {
   "cell_type": "code",
   "execution_count": 40,
   "id": "ae81c933",
   "metadata": {},
   "outputs": [],
   "source": [
    "train_dir= r'D:\\Python_coding\\Internshala_projects\\cats_and_dogs\\train'\n",
    "validation_dir= r'D:\\Python_coding\\Internshala_projects\\cats_and_dogs\\validation'\n",
    "test_dir= r'D:\\Python_coding\\Internshala_projects\\cats_and_dogs\\test'"
   ]
  },
  {
   "cell_type": "markdown",
   "id": "2a0f3c6f",
   "metadata": {},
   "source": [
    "# Data Pre- Processing\n",
    "\n",
    " 1. Read the picture files\n",
    " 2. Decode the Jpeg content to RBG grids of pixel\n",
    " 3. Convert these into floating point tensor.\n",
    " 4. Rescale the pixel values (between 0 and 255 ) to the [0,1] interval."
   ]
  },
  {
   "cell_type": "code",
   "execution_count": 41,
   "id": "d1f38bd0",
   "metadata": {},
   "outputs": [],
   "source": [
    "from tensorflow.keras.preprocessing.image import ImageDataGenerator"
   ]
  },
  {
   "cell_type": "code",
   "execution_count": 42,
   "id": "269592de",
   "metadata": {},
   "outputs": [],
   "source": [
    "train_datagen = ImageDataGenerator(rescale= 1./255,\n",
    "                                  rotation_range=40,\n",
    "                                  width_shift_range=0.2,\n",
    "                                  shear_range=0.2,\n",
    "                                  zoom_range=0.2,\n",
    "                                  horizontal_flip=True)"
   ]
  },
  {
   "cell_type": "code",
   "execution_count": 43,
   "id": "03c53536",
   "metadata": {},
   "outputs": [],
   "source": [
    "test_datagen = ImageDataGenerator(rescale=1./255)"
   ]
  },
  {
   "cell_type": "markdown",
   "id": "94319fc2",
   "metadata": {},
   "source": [
    "# Generating batches of tensor image data "
   ]
  },
  {
   "cell_type": "code",
   "execution_count": 44,
   "id": "72b46a1c",
   "metadata": {},
   "outputs": [
    {
     "name": "stdout",
     "output_type": "stream",
     "text": [
      "Found 2000 images belonging to 2 classes.\n"
     ]
    }
   ],
   "source": [
    "train_datagenerator = train_datagen.flow_from_directory( train_dir, target_size= (150,150), batch_size= 20, class_mode='binary')"
   ]
  },
  {
   "cell_type": "code",
   "execution_count": 45,
   "id": "f423b2b3",
   "metadata": {},
   "outputs": [
    {
     "name": "stdout",
     "output_type": "stream",
     "text": [
      "Found 1000 images belonging to 2 classes.\n"
     ]
    }
   ],
   "source": [
    "validation_datagenerator = test_datagen.flow_from_directory( validation_dir, target_size = (150,150), batch_size= 20, class_mode='binary')"
   ]
  },
  {
   "cell_type": "code",
   "execution_count": 46,
   "id": "d98ebd76",
   "metadata": {},
   "outputs": [],
   "source": [
    "from keras.applications import VGG16\n",
    "conv_base = VGG16(weights= 'imagenet',\n",
    "                 include_top= False,\n",
    "                 input_shape= (150,150,3))"
   ]
  },
  {
   "cell_type": "code",
   "execution_count": 47,
   "id": "1d49f58e",
   "metadata": {},
   "outputs": [
    {
     "name": "stdout",
     "output_type": "stream",
     "text": [
      "Model: \"vgg16\"\n",
      "_________________________________________________________________\n",
      " Layer (type)                Output Shape              Param #   \n",
      "=================================================================\n",
      " input_3 (InputLayer)        [(None, 150, 150, 3)]     0         \n",
      "                                                                 \n",
      " block1_conv1 (Conv2D)       (None, 150, 150, 64)      1792      \n",
      "                                                                 \n",
      " block1_conv2 (Conv2D)       (None, 150, 150, 64)      36928     \n",
      "                                                                 \n",
      " block1_pool (MaxPooling2D)  (None, 75, 75, 64)        0         \n",
      "                                                                 \n",
      " block2_conv1 (Conv2D)       (None, 75, 75, 128)       73856     \n",
      "                                                                 \n",
      " block2_conv2 (Conv2D)       (None, 75, 75, 128)       147584    \n",
      "                                                                 \n",
      " block2_pool (MaxPooling2D)  (None, 37, 37, 128)       0         \n",
      "                                                                 \n",
      " block3_conv1 (Conv2D)       (None, 37, 37, 256)       295168    \n",
      "                                                                 \n",
      " block3_conv2 (Conv2D)       (None, 37, 37, 256)       590080    \n",
      "                                                                 \n",
      " block3_conv3 (Conv2D)       (None, 37, 37, 256)       590080    \n",
      "                                                                 \n",
      " block3_pool (MaxPooling2D)  (None, 18, 18, 256)       0         \n",
      "                                                                 \n",
      " block4_conv1 (Conv2D)       (None, 18, 18, 512)       1180160   \n",
      "                                                                 \n",
      " block4_conv2 (Conv2D)       (None, 18, 18, 512)       2359808   \n",
      "                                                                 \n",
      " block4_conv3 (Conv2D)       (None, 18, 18, 512)       2359808   \n",
      "                                                                 \n",
      " block4_pool (MaxPooling2D)  (None, 9, 9, 512)         0         \n",
      "                                                                 \n",
      " block5_conv1 (Conv2D)       (None, 9, 9, 512)         2359808   \n",
      "                                                                 \n",
      " block5_conv2 (Conv2D)       (None, 9, 9, 512)         2359808   \n",
      "                                                                 \n",
      " block5_conv3 (Conv2D)       (None, 9, 9, 512)         2359808   \n",
      "                                                                 \n",
      " block5_pool (MaxPooling2D)  (None, 4, 4, 512)         0         \n",
      "                                                                 \n",
      "=================================================================\n",
      "Total params: 14,714,688\n",
      "Trainable params: 14,714,688\n",
      "Non-trainable params: 0\n",
      "_________________________________________________________________\n"
     ]
    }
   ],
   "source": [
    "conv_base.summary()"
   ]
  },
  {
   "cell_type": "code",
   "execution_count": 48,
   "id": "b022facb",
   "metadata": {},
   "outputs": [],
   "source": [
    "from tensorflow.keras import models\n",
    "from tensorflow.keras import layers"
   ]
  },
  {
   "cell_type": "code",
   "execution_count": 49,
   "id": "6abb0cd6",
   "metadata": {},
   "outputs": [],
   "source": [
    "model = models.Sequential()\n",
    "model.add(conv_base)\n",
    "model.add(layers.Flatten())\n",
    "model.add(layers.Dense(256, activation='relu'))\n",
    "model.add(layers.Dense(1, activation='sigmoid'))"
   ]
  },
  {
   "cell_type": "code",
   "execution_count": 50,
   "id": "00ab6378",
   "metadata": {},
   "outputs": [
    {
     "name": "stdout",
     "output_type": "stream",
     "text": [
      "Model: \"sequential_2\"\n",
      "_________________________________________________________________\n",
      " Layer (type)                Output Shape              Param #   \n",
      "=================================================================\n",
      " vgg16 (Functional)          (None, 4, 4, 512)         14714688  \n",
      "                                                                 \n",
      " flatten_2 (Flatten)         (None, 8192)              0         \n",
      "                                                                 \n",
      " dense_4 (Dense)             (None, 256)               2097408   \n",
      "                                                                 \n",
      " dense_5 (Dense)             (None, 1)                 257       \n",
      "                                                                 \n",
      "=================================================================\n",
      "Total params: 16,812,353\n",
      "Trainable params: 16,812,353\n",
      "Non-trainable params: 0\n",
      "_________________________________________________________________\n"
     ]
    }
   ],
   "source": [
    "model.summary()"
   ]
  },
  {
   "cell_type": "markdown",
   "id": "9cd7f728",
   "metadata": {},
   "source": [
    "# Compiling the model\n",
    "\n",
    "Here we use features like SGD, RMSprop "
   ]
  },
  {
   "cell_type": "code",
   "execution_count": 51,
   "id": "f51891a7",
   "metadata": {},
   "outputs": [],
   "source": [
    "from tensorflow.keras import optimizers"
   ]
  },
  {
   "cell_type": "code",
   "execution_count": 52,
   "id": "bcd804d0",
   "metadata": {},
   "outputs": [],
   "source": [
    "model.compile(loss=\"binary_crossentropy\",\n",
    "              optimizer= optimizers.RMSprop(lr=1e-4),\n",
    "              metrics=['acc'])"
   ]
  },
  {
   "cell_type": "code",
   "execution_count": 53,
   "id": "0ea2e145",
   "metadata": {},
   "outputs": [],
   "source": [
    "checkpoint_cb = keras.callbacks.ModelCheckpoint(\"CNN_Project_Model-{epoch:02d}.h5\",\n",
    "                                                save_best_only= True)"
   ]
  },
  {
   "cell_type": "code",
   "execution_count": 56,
   "id": "6dd69ad1",
   "metadata": {},
   "outputs": [
    {
     "name": "stdout",
     "output_type": "stream",
     "text": [
      "Epoch 1/30\n"
     ]
    },
    {
     "name": "stderr",
     "output_type": "stream",
     "text": [
      "C:\\Users\\Akash Sahlot\\AppData\\Local\\Temp\\ipykernel_7160\\2043814134.py:1: UserWarning: `Model.fit_generator` is deprecated and will be removed in a future version. Please use `Model.fit`, which supports generators.\n",
      "  history = model.fit_generator(train_datagenerator,\n"
     ]
    },
    {
     "name": "stdout",
     "output_type": "stream",
     "text": [
      "100/100 [==============================] - 466s 5s/step - loss: 0.7104 - acc: 0.5275 - val_loss: 0.6584 - val_acc: 0.6410\n",
      "Epoch 2/30\n",
      "100/100 [==============================] - 912s 9s/step - loss: 0.6345 - acc: 0.6390 - val_loss: 0.4545 - val_acc: 0.8260\n",
      "Epoch 3/30\n",
      "100/100 [==============================] - 900s 9s/step - loss: 0.5121 - acc: 0.7600 - val_loss: 0.7295 - val_acc: 0.6350\n",
      "Epoch 4/30\n",
      "100/100 [==============================] - 983s 10s/step - loss: 0.4531 - acc: 0.7900 - val_loss: 0.3139 - val_acc: 0.8730\n",
      "Epoch 5/30\n",
      "100/100 [==============================] - 962s 10s/step - loss: 0.3707 - acc: 0.8310 - val_loss: 0.2263 - val_acc: 0.9050\n",
      "Epoch 6/30\n",
      "100/100 [==============================] - 914s 9s/step - loss: 0.3537 - acc: 0.8480 - val_loss: 0.2052 - val_acc: 0.9100\n",
      "Epoch 7/30\n",
      "100/100 [==============================] - 887s 9s/step - loss: 0.3306 - acc: 0.8575 - val_loss: 0.2961 - val_acc: 0.8670\n",
      "Epoch 8/30\n",
      "100/100 [==============================] - 882s 9s/step - loss: 0.3114 - acc: 0.8830 - val_loss: 0.2541 - val_acc: 0.8970\n",
      "Epoch 9/30\n",
      "100/100 [==============================] - 876s 9s/step - loss: 0.4561 - acc: 0.8815 - val_loss: 0.2346 - val_acc: 0.9100\n",
      "Epoch 10/30\n",
      "100/100 [==============================] - 853s 9s/step - loss: 0.2748 - acc: 0.8920 - val_loss: 0.2115 - val_acc: 0.9090\n",
      "Epoch 11/30\n",
      "100/100 [==============================] - 838s 8s/step - loss: 0.2617 - acc: 0.9005 - val_loss: 0.1492 - val_acc: 0.9360\n",
      "Epoch 12/30\n",
      "100/100 [==============================] - 3491s 35s/step - loss: 0.2219 - acc: 0.9140 - val_loss: 1.8491 - val_acc: 0.8320\n",
      "Epoch 13/30\n",
      "100/100 [==============================] - 371s 4s/step - loss: 0.2811 - acc: 0.9095 - val_loss: 0.1736 - val_acc: 0.9360\n",
      "Epoch 14/30\n",
      "100/100 [==============================] - 388s 4s/step - loss: 0.2335 - acc: 0.9155 - val_loss: 0.1482 - val_acc: 0.9430\n",
      "Epoch 15/30\n",
      "100/100 [==============================] - 375s 4s/step - loss: 0.2259 - acc: 0.9155 - val_loss: 0.3522 - val_acc: 0.8820\n",
      "Epoch 16/30\n",
      "100/100 [==============================] - 373s 4s/step - loss: 0.1927 - acc: 0.9275 - val_loss: 0.1684 - val_acc: 0.9500\n",
      "Epoch 17/30\n",
      "100/100 [==============================] - 378s 4s/step - loss: 0.1818 - acc: 0.9290 - val_loss: 0.3387 - val_acc: 0.9190\n",
      "Epoch 18/30\n",
      "100/100 [==============================] - 767s 8s/step - loss: 0.2078 - acc: 0.9335 - val_loss: 0.2041 - val_acc: 0.9400\n",
      "Epoch 19/30\n",
      "100/100 [==============================] - 826s 8s/step - loss: 0.1805 - acc: 0.9270 - val_loss: 0.1698 - val_acc: 0.9400\n",
      "Epoch 20/30\n",
      "100/100 [==============================] - 825s 8s/step - loss: 0.2253 - acc: 0.9210 - val_loss: 0.1446 - val_acc: 0.9370\n",
      "Epoch 21/30\n",
      "100/100 [==============================] - 878s 9s/step - loss: 0.2022 - acc: 0.9225 - val_loss: 0.2774 - val_acc: 0.8750\n",
      "Epoch 22/30\n",
      "100/100 [==============================] - 916s 9s/step - loss: 0.2073 - acc: 0.9330 - val_loss: 0.2020 - val_acc: 0.9220\n",
      "Epoch 23/30\n",
      "100/100 [==============================] - 935s 9s/step - loss: 0.1585 - acc: 0.9435 - val_loss: 0.1852 - val_acc: 0.9410\n",
      "Epoch 24/30\n",
      "100/100 [==============================] - 865s 9s/step - loss: 0.1795 - acc: 0.9290 - val_loss: 0.1884 - val_acc: 0.9330\n",
      "Epoch 25/30\n",
      "100/100 [==============================] - 1465s 15s/step - loss: 0.1769 - acc: 0.9335 - val_loss: 1.4767 - val_acc: 0.7850\n",
      "Epoch 26/30\n",
      "100/100 [==============================] - 1103s 11s/step - loss: 0.1762 - acc: 0.9350 - val_loss: 0.1837 - val_acc: 0.9480\n",
      "Epoch 27/30\n",
      "100/100 [==============================] - 381s 4s/step - loss: 0.2018 - acc: 0.9275 - val_loss: 0.1829 - val_acc: 0.9350\n",
      "Epoch 28/30\n",
      "100/100 [==============================] - 394s 4s/step - loss: 0.1776 - acc: 0.9415 - val_loss: 0.2166 - val_acc: 0.9390\n",
      "Epoch 29/30\n",
      "100/100 [==============================] - 379s 4s/step - loss: 0.1998 - acc: 0.9355 - val_loss: 0.1579 - val_acc: 0.9520\n",
      "Epoch 30/30\n",
      "100/100 [==============================] - 841s 8s/step - loss: 0.1975 - acc: 0.9310 - val_loss: 0.1662 - val_acc: 0.9360\n"
     ]
    }
   ],
   "source": [
    "history = model.fit_generator(train_datagenerator,\n",
    "                             steps_per_epoch=100,\n",
    "                             epochs=30,\n",
    "                             validation_data= validation_datagenerator,\n",
    "                             callbacks=[checkpoint_cb])\n"
   ]
  },
  {
   "cell_type": "markdown",
   "id": "313d205e",
   "metadata": {},
   "source": [
    "Plotting Graph"
   ]
  },
  {
   "cell_type": "code",
   "execution_count": 59,
   "id": "6ad7ca86",
   "metadata": {},
   "outputs": [
    {
     "data": {
      "image/png": "[encoded data removed]",
      "text/plain": [
       "<Figure size 576x360 with 1 Axes>"
      ]
     },
     "metadata": {
      "needs_background": "light"
     },
     "output_type": "display_data"
    }
   ],
   "source": [
    "pd.DataFrame(history.history).plot(figsize=(8,5))\n",
    "plt.grid(True)\n",
    "plt.gca().set_ylim(0,1)\n",
    "plt.show()"
   ]
  },
  {
   "cell_type": "code",
   "execution_count": 60,
   "id": "892ec687",
   "metadata": {},
   "outputs": [],
   "source": [
    "hist_df = pd.DataFrame(history.history)\n",
    "hist_csv_file = 'history.csv'"
   ]
  },
  {
   "cell_type": "code",
   "execution_count": 61,
   "id": "bbd05ec5",
   "metadata": {},
   "outputs": [],
   "source": [
    "with open (hist_csv_file, mode= 'w') as f:\n",
    "    hist_df.to_csv(f)"
   ]
  },
  {
   "cell_type": "code",
   "execution_count": 62,
   "id": "28da836d",
   "metadata": {},
   "outputs": [
    {
     "name": "stdout",
     "output_type": "stream",
     "text": [
      "Found 1000 images belonging to 2 classes.\n"
     ]
    }
   ],
   "source": [
    "test_generator= test_datagen.flow_from_directory(test_dir, \n",
    "                                                 target_size=(150,150),\n",
    "                                                 batch_size=20,\n",
    "                                                 class_mode='binary')"
   ]
  },
  {
   "cell_type": "code",
   "execution_count": 63,
   "id": "dd516f35",
   "metadata": {},
   "outputs": [
    {
     "name": "stderr",
     "output_type": "stream",
     "text": [
      "C:\\Users\\Akash Sahlot\\AppData\\Local\\Temp\\ipykernel_7160\\421928545.py:1: UserWarning: `Model.evaluate_generator` is deprecated and will be removed in a future version. Please use `Model.evaluate`, which supports generators.\n",
      "  model.evaluate_generator(test_generator, steps=50)\n"
     ]
    },
    {
     "data": {
      "text/plain": [
       "[0.1861032098531723, 0.9229999780654907]"
      ]
     },
     "execution_count": 63,
     "metadata": {},
     "output_type": "execute_result"
    }
   ],
   "source": [
    "model.evaluate_generator(test_generator, steps=50)"
   ]
  },
  {
   "cell_type": "code",
   "execution_count": null,
   "id": "2504e8d3",
   "metadata": {},
   "outputs": [],
   "source": []
  }
 ],
 "metadata": {
  "kernelspec": {
   "display_name": "Python 3 (ipykernel)",
   "language": "python",
   "name": "python3"
  },
  "language_info": {
   "codemirror_mode": {
    "name": "ipython",
    "version": 3
   },
   "file_extension": ".py",
   "mimetype": "text/x-python",
   "name": "python",
   "nbconvert_exporter": "python",
   "pygments_lexer": "ipython3",
   "version": "3.10.5"
  }
 },
 "nbformat": 4,
 "nbformat_minor": 5
}
